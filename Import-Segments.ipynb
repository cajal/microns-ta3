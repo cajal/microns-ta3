{
 "cells": [
  {
   "cell_type": "code",
   "execution_count": 1,
   "metadata": {
    "collapsed": true
   },
   "outputs": [],
   "source": [
    "import numpy as np\n",
    "import datajoint as dj\n",
    "dj.config['database.user'] = 'dimitri'    #  change to your username\n",
    "dj.config['database.host'] = 'datajoint.ninai.org'"
   ]
  },
  {
   "cell_type": "code",
   "execution_count": 2,
   "metadata": {},
   "outputs": [],
   "source": [
    "%%capture\n",
    "import ta3\n",
    "import pandas as pd\n",
    "from tqdm import tqdm"
   ]
  },
  {
   "cell_type": "markdown",
   "metadata": {},
   "source": [
    "## Import Segments"
   ]
  },
  {
   "cell_type": "markdown",
   "metadata": {},
   "source": [
    "The manifest list is produced as \n",
    "```shell \n",
    "gsutil -m ls gs://pinky_share/pinky40_v11/watershed_mst_trimmed_sem_remap/mesh_mip_3_err_40/*:0 > ./pinky40_v11_watershed_mst_trimmed_sem_remap_segment_list.txt\n",
    "```"
   ]
  },
  {
   "cell_type": "code",
   "execution_count": null,
   "metadata": {
    "collapsed": true
   },
   "outputs": [],
   "source": [
    "with open(\"pinky40_v11_watershed_mst_trimmed_sem_remap_segment_list.txt\", 'rt') as f:\n",
    "    lines = f.read().splitlines()"
   ]
  },
  {
   "cell_type": "code",
   "execution_count": null,
   "metadata": {
    "collapsed": true
   },
   "outputs": [],
   "source": [
    "segment = ta3.Segment()l\n",
    "existing_segments = set(segment.fetch('segment_id'))"
   ]
  },
  {
   "cell_type": "code",
   "execution_count": null,
   "metadata": {
    "collapsed": true,
    "scrolled": true
   },
   "outputs": [],
   "source": [
    "new_segments = set(int(line.split('/')[-1].split(':')[0]) for line in lines).difference(existing_segments)"
   ]
  },
  {
   "cell_type": "code",
   "execution_count": null,
   "metadata": {},
   "outputs": [],
   "source": [
    "for segment_id in tqdm(new_segments):\n",
    "    segment.insert1(dict(segmentation=1, segment_id=segment_id))"
   ]
  },
  {
   "cell_type": "markdown",
   "metadata": {},
   "source": [
    "# Import meshes"
   ]
  },
  {
   "cell_type": "code",
   "execution_count": 4,
   "metadata": {
    "scrolled": false
   },
   "outputs": [
    {
     "name": "stderr",
     "output_type": "stream",
     "text": [
      " 12%|█▏        | 26/219 [13:03<2:12:30, 41.20s/it]Buffer size 234 is not a muliple of 4\n",
      " 12%|█▏        | 27/219 [13:06<1:34:33, 29.55s/it]Buffer is to short: 176 for 559903 verticies\n",
      " 16%|█▌        | 34/219 [20:04<4:01:16, 78.25s/it]Buffer size 14174 is not a muliple of 4\n",
      " 16%|█▌        | 35/219 [20:12<2:55:39, 57.28s/it]Buffer is to short: 112 for 559903 verticies\n",
      " 19%|█▊        | 41/219 [26:06<3:09:42, 63.95s/it]Buffer size 183 is not a muliple of 4\n",
      " 21%|██        | 45/219 [26:47<1:08:11, 23.52s/it]Buffer size 66 is not a muliple of 4\n",
      " 21%|██        | 46/219 [26:49<49:29, 17.16s/it]  Buffer size 1181 is not a muliple of 4\n",
      " 24%|██▍       | 53/219 [32:32<2:29:25, 54.01s/it]Buffer size 578 is not a muliple of 4\n",
      " 25%|██▍       | 54/219 [32:34<1:45:57, 38.53s/it]Buffer size 857 is not a muliple of 4\n",
      " 25%|██▌       | 55/219 [32:36<1:15:30, 27.62s/it]Buffer is to short: 1704 for 559903 verticies\n",
      " 26%|██▌       | 56/219 [32:39<54:21, 20.01s/it]  Buffer size 102 is not a muliple of 4\n",
      " 28%|██▊       | 62/219 [36:30<1:58:07, 45.14s/it]Buffer is to short: 448 for 559903 verticies\n",
      " 29%|██▉       | 63/219 [36:33<1:24:00, 32.31s/it]Buffer size 35635 is not a muliple of 4\n",
      " 29%|██▉       | 64/219 [36:41<1:05:11, 25.23s/it]Buffer size 278 is not a muliple of 4\n",
      " 32%|███▏      | 70/219 [39:12<1:15:38, 30.46s/it]Buffer size 3202 is not a muliple of 4\n",
      " 33%|███▎      | 72/219 [40:05<1:14:51, 30.56s/it]Buffer size 4287 is not a muliple of 4\n",
      " 33%|███▎      | 73/219 [40:07<53:44, 22.09s/it]  Buffer size 418 is not a muliple of 4\n",
      " 35%|███▍      | 76/219 [42:13<1:34:56, 39.83s/it]Buffer is to short: 96 for 559903 verticies\n",
      " 37%|███▋      | 80/219 [45:42<2:30:14, 64.86s/it]Buffer size 89 is not a muliple of 4\n",
      " 37%|███▋      | 81/219 [45:44<1:46:00, 46.09s/it]Buffer size 126 is not a muliple of 4\n",
      " 38%|███▊      | 84/219 [48:52<2:19:12, 61.87s/it]Buffer size 102 is not a muliple of 4\n",
      " 39%|███▉      | 85/219 [48:54<1:38:17, 44.01s/it]Buffer is to short: 30272 for 559903 verticies\n",
      " 39%|███▉      | 86/219 [48:58<1:10:31, 31.82s/it]Buffer size 122 is not a muliple of 4\n",
      " 40%|████      | 88/219 [50:39<1:40:10, 45.88s/it]Buffer is to short: 612 for 559903 verticies\n",
      " 42%|████▏     | 93/219 [55:33<2:29:03, 70.98s/it]Buffer is to short: 220 for 559903 verticies\n",
      " 43%|████▎     | 94/219 [55:35<1:44:56, 50.37s/it]Buffer size 95 is not a muliple of 4\n",
      " 43%|████▎     | 95/219 [55:37<1:14:17, 35.95s/it]Buffer size 3247 is not a muliple of 4\n",
      " 44%|████▍     | 97/219 [55:47<41:05, 20.21s/it]  Buffer size 769 is not a muliple of 4\n",
      " 45%|████▍     | 98/219 [55:49<29:58, 14.87s/it]Buffer is to short: 364 for 559903 verticies\n",
      " 45%|████▌     | 99/219 [55:52<22:50, 11.42s/it]Buffer is to short: 112 for 559903 verticies\n",
      " 46%|████▌     | 100/219 [55:55<17:12,  8.68s/it]Buffer size 149 is not a muliple of 4\n",
      " 49%|████▉     | 107/219 [1:01:21<1:51:56, 59.97s/it]Buffer size 52689 is not a muliple of 4\n",
      " 73%|███████▎  | 159/219 [1:55:33<44:15, 44.26s/it]  Buffer size 170 is not a muliple of 4\n",
      " 75%|███████▍  | 164/219 [2:00:01<48:54, 53.35s/it]  Buffer size 253 is not a muliple of 4\n",
      " 75%|███████▌  | 165/219 [2:00:04<34:18, 38.12s/it]Buffer is to short: 312 for 559903 verticies\n",
      " 76%|███████▋  | 167/219 [2:01:58<45:41, 52.72s/it]Buffer size 7338 is not a muliple of 4\n",
      " 77%|███████▋  | 168/219 [2:02:05<33:03, 38.89s/it]Buffer size 109 is not a muliple of 4\n",
      " 78%|███████▊  | 171/219 [2:03:33<26:46, 33.46s/it]Buffer size 29950 is not a muliple of 4\n",
      " 79%|███████▊  | 172/219 [2:03:39<19:56, 25.45s/it]Buffer size 3281 is not a muliple of 4\n",
      " 79%|███████▉  | 173/219 [2:03:43<14:25, 18.82s/it]Buffer size 89 is not a muliple of 4\n",
      " 79%|███████▉  | 174/219 [2:03:45<10:24, 13.87s/it]Buffer size 89 is not a muliple of 4\n",
      " 81%|████████▏ | 178/219 [2:04:20<07:16, 10.64s/it]Buffer size 3675 is not a muliple of 4\n",
      " 83%|████████▎ | 182/219 [2:05:37<14:20, 23.26s/it]Buffer size 131 is not a muliple of 4\n",
      " 84%|████████▎ | 183/219 [2:05:39<10:10, 16.96s/it]Buffer size 477 is not a muliple of 4\n",
      " 84%|████████▍ | 184/219 [2:05:42<07:20, 12.58s/it]Buffer size 166 is not a muliple of 4\n",
      " 85%|████████▍ | 186/219 [2:06:35<12:05, 21.99s/it]Buffer size 283 is not a muliple of 4\n",
      " 86%|████████▋ | 189/219 [2:07:14<09:06, 18.23s/it]Buffer size 34721 is not a muliple of 4\n",
      " 88%|████████▊ | 192/219 [2:07:36<05:12, 11.57s/it]Buffer size 363 is not a muliple of 4\n",
      " 88%|████████▊ | 193/219 [2:07:38<03:48,  8.79s/it]Buffer size 3749 is not a muliple of 4\n",
      " 89%|████████▊ | 194/219 [2:07:41<02:52,  6.89s/it]Buffer size 105 is not a muliple of 4\n",
      " 89%|████████▉ | 196/219 [2:07:50<02:18,  6.01s/it]Buffer size 135 is not a muliple of 4\n",
      " 90%|████████▉ | 197/219 [2:07:53<01:48,  4.92s/it]Buffer size 846 is not a muliple of 4\n",
      " 90%|█████████ | 198/219 [2:07:55<01:27,  4.16s/it]Buffer size 190 is not a muliple of 4\n",
      " 91%|█████████ | 199/219 [2:07:57<01:12,  3.61s/it]Buffer is to short: 176 for 559903 verticies\n",
      " 92%|█████████▏| 201/219 [2:08:10<01:37,  5.44s/it]Buffer size 129 is not a muliple of 4\n",
      " 92%|█████████▏| 202/219 [2:08:13<01:16,  4.52s/it]Buffer size 177 is not a muliple of 4\n",
      " 93%|█████████▎| 203/219 [2:08:15<01:01,  3.87s/it]Buffer size 78 is not a muliple of 4\n",
      " 93%|█████████▎| 204/219 [2:08:17<00:50,  3.39s/it]Buffer is to short: 2172 for 559903 verticies\n",
      " 94%|█████████▎| 205/219 [2:08:20<00:42,  3.06s/it]Buffer size 3079 is not a muliple of 4\n",
      " 95%|█████████▍| 208/219 [2:08:52<01:31,  8.33s/it]Buffer is to short: 92 for 559903 verticies\n",
      "100%|██████████| 219/219 [2:15:26<00:00, 26.97s/it]\n"
     ]
    },
    {
     "data": {
      "text/plain": [
       "[({'segment_id': 14278693, 'segmentation': 1},\n",
       "  ValueError('Buffer size 234 is not a muliple of 4')),\n",
       " ({'segment_id': 15361053, 'segmentation': 1},\n",
       "  ValueError('Buffer is to short: 176 for 559903 verticies')),\n",
       " ({'segment_id': 18850486, 'segmentation': 1},\n",
       "  ValueError('Buffer size 14174 is not a muliple of 4')),\n",
       " ({'segment_id': 19013423, 'segmentation': 1},\n",
       "  ValueError('Buffer is to short: 112 for 559903 verticies')),\n",
       " ({'segment_id': 21266165, 'segmentation': 1},\n",
       "  ValueError('Buffer size 183 is not a muliple of 4')),\n",
       " ({'segment_id': 22715886, 'segmentation': 1},\n",
       "  ValueError('Buffer size 66 is not a muliple of 4')),\n",
       " ({'segment_id': 22845425, 'segmentation': 1},\n",
       "  ValueError('Buffer size 1181 is not a muliple of 4')),\n",
       " ({'segment_id': 26417847, 'segmentation': 1},\n",
       "  ValueError('Buffer size 578 is not a muliple of 4')),\n",
       " ({'segment_id': 26450525, 'segmentation': 1},\n",
       "  ValueError('Buffer size 857 is not a muliple of 4')),\n",
       " ({'segment_id': 26500534, 'segmentation': 1},\n",
       "  ValueError('Buffer is to short: 1704 for 559903 verticies')),\n",
       " ({'segment_id': 26573857, 'segmentation': 1},\n",
       "  ValueError('Buffer size 102 is not a muliple of 4')),\n",
       " ({'segment_id': 30253462, 'segmentation': 1},\n",
       "  ValueError('Buffer is to short: 448 for 559903 verticies')),\n",
       " ({'segment_id': 30258948, 'segmentation': 1},\n",
       "  ValueError('Buffer size 35635 is not a muliple of 4')),\n",
       " ({'segment_id': 30315573, 'segmentation': 1},\n",
       "  ValueError('Buffer size 278 is not a muliple of 4')),\n",
       " ({'segment_id': 32269979, 'segmentation': 1},\n",
       "  ValueError('Buffer size 3202 is not a muliple of 4')),\n",
       " ({'segment_id': 32327252, 'segmentation': 1},\n",
       "  ValueError('Buffer size 4287 is not a muliple of 4')),\n",
       " ({'segment_id': 32392097, 'segmentation': 1},\n",
       "  ValueError('Buffer size 418 is not a muliple of 4')),\n",
       " ({'segment_id': 34480776, 'segmentation': 1},\n",
       "  ValueError('Buffer is to short: 96 for 559903 verticies')),\n",
       " ({'segment_id': 36218600, 'segmentation': 1},\n",
       "  ValueError('Buffer size 89 is not a muliple of 4')),\n",
       " ({'segment_id': 36271979, 'segmentation': 1},\n",
       "  ValueError('Buffer size 126 is not a muliple of 4')),\n",
       " ({'segment_id': 40014143, 'segmentation': 1},\n",
       "  ValueError('Buffer size 102 is not a muliple of 4')),\n",
       " ({'segment_id': 40014335, 'segmentation': 1},\n",
       "  ValueError('Buffer is to short: 30272 for 559903 verticies')),\n",
       " ({'segment_id': 40064744, 'segmentation': 1},\n",
       "  ValueError('Buffer size 122 is not a muliple of 4')),\n",
       " ({'segment_id': 40179517, 'segmentation': 1},\n",
       "  ValueError('Buffer is to short: 612 for 559903 verticies')),\n",
       " ({'segment_id': 42080349, 'segmentation': 1},\n",
       "  ValueError('Buffer is to short: 220 for 559903 verticies')),\n",
       " ({'segment_id': 42147102, 'segmentation': 1},\n",
       "  ValueError('Buffer size 95 is not a muliple of 4')),\n",
       " ({'segment_id': 42216181, 'segmentation': 1},\n",
       "  ValueError('Buffer size 3247 is not a muliple of 4')),\n",
       " ({'segment_id': 43745575, 'segmentation': 1},\n",
       "  ValueError('Buffer size 769 is not a muliple of 4')),\n",
       " ({'segment_id': 45651266, 'segmentation': 1},\n",
       "  ValueError('Buffer is to short: 364 for 559903 verticies')),\n",
       " ({'segment_id': 45788622, 'segmentation': 1},\n",
       "  ValueError('Buffer is to short: 112 for 559903 verticies')),\n",
       " ({'segment_id': 45913350, 'segmentation': 1},\n",
       "  ValueError('Buffer size 149 is not a muliple of 4')),\n",
       " ({'segment_id': 53219396, 'segmentation': 1},\n",
       "  ValueError('Buffer size 52689 is not a muliple of 4')),\n",
       " ({'segment_id': 101640079, 'segmentation': 1},\n",
       "  ValueError('Buffer size 170 is not a muliple of 4')),\n",
       " ({'segment_id': 104986262, 'segmentation': 1},\n",
       "  ValueError('Buffer size 253 is not a muliple of 4')),\n",
       " ({'segment_id': 105139760, 'segmentation': 1},\n",
       "  ValueError('Buffer is to short: 312 for 559903 verticies')),\n",
       " ({'segment_id': 105966514, 'segmentation': 1},\n",
       "  ValueError('Buffer size 7338 is not a muliple of 4')),\n",
       " ({'segment_id': 106019855, 'segmentation': 1},\n",
       "  ValueError('Buffer size 109 is not a muliple of 4')),\n",
       " ({'segment_id': 109436119, 'segmentation': 1},\n",
       "  ValueError('Buffer size 29950 is not a muliple of 4')),\n",
       " ({'segment_id': 109511079, 'segmentation': 1},\n",
       "  ValueError('Buffer size 3281 is not a muliple of 4')),\n",
       " ({'segment_id': 109679912, 'segmentation': 1},\n",
       "  ValueError('Buffer size 89 is not a muliple of 4')),\n",
       " ({'segment_id': 109745808, 'segmentation': 1},\n",
       "  ValueError('Buffer size 89 is not a muliple of 4')),\n",
       " ({'segment_id': 110365914, 'segmentation': 1},\n",
       "  ValueError('Buffer size 3675 is not a muliple of 4')),\n",
       " ({'segment_id': 113286462, 'segmentation': 1},\n",
       "  ValueError('Buffer size 131 is not a muliple of 4')),\n",
       " ({'segment_id': 113430489, 'segmentation': 1},\n",
       "  ValueError('Buffer size 477 is not a muliple of 4')),\n",
       " ({'segment_id': 113906033, 'segmentation': 1},\n",
       "  ValueError('Buffer size 166 is not a muliple of 4')),\n",
       " ({'segment_id': 113973654, 'segmentation': 1},\n",
       "  ValueError('Buffer size 283 is not a muliple of 4')),\n",
       " ({'segment_id': 114841874, 'segmentation': 1},\n",
       "  ValueError('Buffer size 34721 is not a muliple of 4')),\n",
       " ({'segment_id': 117039360, 'segmentation': 1},\n",
       "  ValueError('Buffer size 363 is not a muliple of 4')),\n",
       " ({'segment_id': 117084879, 'segmentation': 1},\n",
       "  ValueError('Buffer size 3749 is not a muliple of 4')),\n",
       " ({'segment_id': 117088311, 'segmentation': 1},\n",
       "  ValueError('Buffer size 105 is not a muliple of 4')),\n",
       " ({'segment_id': 120680337, 'segmentation': 1},\n",
       "  ValueError('Buffer size 135 is not a muliple of 4')),\n",
       " ({'segment_id': 120690524, 'segmentation': 1},\n",
       "  ValueError('Buffer size 846 is not a muliple of 4')),\n",
       " ({'segment_id': 120836621, 'segmentation': 1},\n",
       "  ValueError('Buffer size 190 is not a muliple of 4')),\n",
       " ({'segment_id': 120838096, 'segmentation': 1},\n",
       "  ValueError('Buffer is to short: 176 for 559903 verticies')),\n",
       " ({'segment_id': 121254204, 'segmentation': 1},\n",
       "  ValueError('Buffer size 129 is not a muliple of 4')),\n",
       " ({'segment_id': 121325630, 'segmentation': 1},\n",
       "  ValueError('Buffer size 177 is not a muliple of 4')),\n",
       " ({'segment_id': 121400745, 'segmentation': 1},\n",
       "  ValueError('Buffer size 78 is not a muliple of 4')),\n",
       " ({'segment_id': 121401082, 'segmentation': 1},\n",
       "  ValueError('Buffer is to short: 2172 for 559903 verticies')),\n",
       " ({'segment_id': 121401816, 'segmentation': 1},\n",
       "  ValueError('Buffer size 3079 is not a muliple of 4')),\n",
       " ({'segment_id': 123337887, 'segmentation': 1},\n",
       "  ValueError('Buffer is to short: 92 for 559903 verticies'))]"
      ]
     },
     "execution_count": 4,
     "metadata": {},
     "output_type": "execute_result"
    }
   ],
   "source": [
    "ta3.Mesh.populate(display_progress=True, reserve_jobs=True, suppress_errors=True)"
   ]
  },
  {
   "cell_type": "code",
   "execution_count": 3,
   "metadata": {},
   "outputs": [
    {
     "data": {
      "text/html": [
       "\n",
       "        \n",
       "        <style type=\"text/css\">\n",
       "            .Relation{\n",
       "                border-collapse:collapse;\n",
       "            }\n",
       "            .Relation th{\n",
       "                background: #A0A0A0; color: #ffffff; padding:4px; border:#f0e0e0 1px solid;\n",
       "                font-weight: normal; font-family: monospace; font-size: 100%;\n",
       "            }\n",
       "            .Relation td{\n",
       "                padding:4px; border:#f0e0e0 1px solid; font-size:100%;\n",
       "            }\n",
       "            .Relation tr:nth-child(odd){\n",
       "                background: #ffffff;\n",
       "            }\n",
       "            .Relation tr:nth-child(even){\n",
       "                background: #f3f1ff;\n",
       "            }\n",
       "            /* Tooltip container */\n",
       "            .djtooltip {\n",
       "            }\n",
       "            /* Tooltip text */\n",
       "            .djtooltip .djtooltiptext {\n",
       "                visibility: hidden;\n",
       "                width: 120px;\n",
       "                background-color: black;\n",
       "                color: #fff;\n",
       "                text-align: center;\n",
       "                padding: 5px 0;\n",
       "                border-radius: 6px;\n",
       "                /* Position the tooltip text - see examples below! */\n",
       "                position: absolute;\n",
       "                z-index: 1;\n",
       "            }\n",
       "            #primary {\n",
       "                font-weight: bold;\n",
       "                color: black;\n",
       "            }\n",
       "\n",
       "            #nonprimary {\n",
       "                font-weight: normal;\n",
       "                color: white;\n",
       "            }\n",
       "\n",
       "            /* Show the tooltip text when you mouse over the tooltip container */\n",
       "            .djtooltip:hover .djtooltiptext {\n",
       "                visibility: visible;\n",
       "            }\n",
       "        </style>\n",
       "        \n",
       "        <b></b>\n",
       "            <div style=\"max-height:1000px;max-width:1500px;overflow:auto;\">\n",
       "            <table border=\"1\" class=\"Relation\">\n",
       "                <thead> <tr style=\"text-align: right;\"> <th> <div class=\"djtooltip\">\n",
       "                                <p id=\"primary\">table_name</p>\n",
       "                                <span class=\"djtooltiptext\">className of the table</span>\n",
       "                            </div></th><th><div class=\"djtooltip\">\n",
       "                                <p id=\"primary\">key_hash</p>\n",
       "                                <span class=\"djtooltiptext\">key hash</span>\n",
       "                            </div></th><th><div class=\"djtooltip\">\n",
       "                                <p id=\"nonprimary\">status</p>\n",
       "                                <span class=\"djtooltiptext\">if tuple is missing, the job is available</span>\n",
       "                            </div></th><th><div class=\"djtooltip\">\n",
       "                                <p id=\"nonprimary\">key</p>\n",
       "                                <span class=\"djtooltiptext\">structure containing the key</span>\n",
       "                            </div></th><th><div class=\"djtooltip\">\n",
       "                                <p id=\"nonprimary\">error_message</p>\n",
       "                                <span class=\"djtooltiptext\">error message returned if failed</span>\n",
       "                            </div></th><th><div class=\"djtooltip\">\n",
       "                                <p id=\"nonprimary\">error_stack</p>\n",
       "                                <span class=\"djtooltiptext\">error stack if failed</span>\n",
       "                            </div></th><th><div class=\"djtooltip\">\n",
       "                                <p id=\"nonprimary\">user</p>\n",
       "                                <span class=\"djtooltiptext\">database user</span>\n",
       "                            </div></th><th><div class=\"djtooltip\">\n",
       "                                <p id=\"nonprimary\">host</p>\n",
       "                                <span class=\"djtooltiptext\">system hostname</span>\n",
       "                            </div></th><th><div class=\"djtooltip\">\n",
       "                                <p id=\"nonprimary\">pid</p>\n",
       "                                <span class=\"djtooltiptext\">system process id</span>\n",
       "                            </div></th><th><div class=\"djtooltip\">\n",
       "                                <p id=\"nonprimary\">connection_id</p>\n",
       "                                <span class=\"djtooltiptext\">connection_id()</span>\n",
       "                            </div></th><th><div class=\"djtooltip\">\n",
       "                                <p id=\"nonprimary\">timestamp</p>\n",
       "                                <span class=\"djtooltiptext\">automatic timestamp</span>\n",
       "                            </div> </th> </tr> </thead>\n",
       "                <tbody> <tr>  </tr> </tbody>\n",
       "            </table>\n",
       "            \n",
       "            <p>0 tuples</p></div>\n",
       "            "
      ],
      "text/plain": [
       "*table_name    *key_hash    status     key        error_message  error_stac user     host     pid     connection_id  timestamp    \n",
       "+------------+ +----------+ +--------+ +--------+ +------------+ +--------+ +------+ +------+ +-----+ +------------+ +-----------+\n",
       "\n",
       " (0 tuples)"
      ]
     },
     "execution_count": 3,
     "metadata": {},
     "output_type": "execute_result"
    }
   ],
   "source": [
    "ta3.schema.jobs"
   ]
  },
  {
   "cell_type": "code",
   "execution_count": null,
   "metadata": {
    "collapsed": true
   },
   "outputs": [],
   "source": []
  }
 ],
 "metadata": {
  "kernelspec": {
   "display_name": "Python 3",
   "language": "python",
   "name": "python3"
  },
  "language_info": {
   "codemirror_mode": {
    "name": "ipython",
    "version": 3
   },
   "file_extension": ".py",
   "mimetype": "text/x-python",
   "name": "python",
   "nbconvert_exporter": "python",
   "pygments_lexer": "ipython3",
   "version": "3.6.2"
  }
 },
 "nbformat": 4,
 "nbformat_minor": 2
}
